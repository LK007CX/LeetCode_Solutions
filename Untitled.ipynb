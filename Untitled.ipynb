{
 "cells": [
  {
   "cell_type": "markdown",
   "metadata": {},
   "source": [
    "<h1><center>LeetCode Solutions</center></h1>"
   ]
  },
  {
   "cell_type": "markdown",
   "metadata": {},
   "source": [
    "## 1. 两数之和"
   ]
  },
  {
   "cell_type": "markdown",
   "metadata": {},
   "source": [
    "给定一个整数数组 nums 和一个目标值 target，请你在该数组中找出和为目标值的那 两个 整数，并返回他们的数组下标。\n",
    "\n",
    "你可以假设每种输入只会对应一个答案。但是，数组中同一个元素不能使用两遍。"
   ]
  },
  {
   "cell_type": "markdown",
   "metadata": {},
   "source": [
    "**解法1：暴力法$O(n^2)$**"
   ]
  },
  {
   "cell_type": "code",
   "execution_count": 104,
   "metadata": {},
   "outputs": [],
   "source": [
    "def twoSum(nums, target):\n",
    "        n = len(nums)\n",
    "        for i in range(n):\n",
    "            for j in range(i+1, n):\n",
    "                if nums[i] + nums[j] == target:\n",
    "                    return [i, j]\n",
    "        return [-1, -1]"
   ]
  },
  {
   "cell_type": "code",
   "execution_count": 105,
   "metadata": {},
   "outputs": [
    {
     "name": "stdout",
     "output_type": "stream",
     "text": [
      "随机数组\t\t\t随机目标值\t是否找到\t\t数字1\t数字2\t数组下标1\t数组下标2\n",
      "[2 2 2 7 4 6 5 5 5 3]\t3\t\t\t\t\t\t\t\t\n",
      "[3 9 7 5 9 9 4 6 8 3]\t1\t\t\t\t\t\t\t\t\n",
      "[2 1 6 3 4 6 9 5 4 6]\t2\t\t\t\t\t\t\t\t\n",
      "[9 9 5 3 2 9 3 3 5 3]\t9\t\t\t\t\t\t\t\t\n",
      "[3 2 6 6 7 7 2 4 5 7]\t6\t\t是\t\t2\t4\t1\t\t7\n",
      "[8 9 7 3 8 3 2 1 8 9]\t3\t\t是\t\t2\t1\t6\t\t7\n",
      "[8 9 5 3 5 3 9 5 1 5]\t9\t\t是\t\t8\t1\t0\t\t8\n",
      "[8 3 9 8 7 5 2 6 3 9]\t4\t\t\t\t\t\t\t\t\n",
      "[4 6 1 3 4 5 8 5 7 5]\t4\t\t是\t\t1\t3\t2\t\t3\n",
      "[8 4 4 7 4 1 9 5 8 8]\t5\t\t是\t\t4\t1\t1\t\t5\n",
      "Wall time: 5.98 ms\n"
     ]
    }
   ],
   "source": [
    "%%time\n",
    "import numpy as np\n",
    "import random\n",
    "\n",
    "if __name__ == \"__main__\":\n",
    "    print(\"随机数组\\t\\t\\t随机目标值\\t是否找到\\t\\t数字1\\t数字2\\t数组下标1\\t数组下标2\")\n",
    "    for i in range(10):\n",
    "        nums = np.random.randint(1, 10, (10,))\n",
    "        target = random.randint(0, 9)\n",
    "        i, j = twoSum(nums, target)\n",
    "        print(str(nums) + '\\t' + str(target), end='\\t\\t')\n",
    "        if i != -1 and j != -1:\n",
    "            print(\"是\\t\", end='\\t')\n",
    "            print(str(nums[i]) + '\\t' + str(nums[j]), end='\\t')\n",
    "            print(str(i) + '\\t\\t' + str(j))\n",
    "        else:\n",
    "            print(\"\\t\", end='\\t')\n",
    "            print('' + '\\t' + '', end='\\t')\n",
    "            print('' + '\\t\\t' + '')"
   ]
  },
  {
   "cell_type": "markdown",
   "metadata": {},
   "source": [
    "**解法2**"
   ]
  },
  {
   "cell_type": "code",
   "execution_count": 106,
   "metadata": {},
   "outputs": [],
   "source": [
    "def twoSum(nums, target):\n",
    "        n = len(nums)\n",
    "        for i in range(n):\n",
    "            temp = nums[:i]\n",
    "            if target-nums[i] in temp:\n",
    "                j = nums.index(target-nums[i])\n",
    "                return [i, j]\n",
    "        return [-1, -1]"
   ]
  },
  {
   "cell_type": "code",
   "execution_count": 107,
   "metadata": {},
   "outputs": [
    {
     "name": "stdout",
     "output_type": "stream",
     "text": [
      "随机数组\t\t\t随机目标值\t是否找到\t\t数字1\t数字2\t数组下标1\t数组下标2\n",
      "[2 7 8 3 1 5 3 6 1 6]\t9\t\t是\t\t7\t2\t1\t\t0\n",
      "[1 9 5 3 6 3 5 5 9 1]\t0\t\t\t\t\t\t\t\t\n",
      "[8 7 6 8 5 1 5 4 5 5]\t2\t\t\t\t\t\t\t\t\n",
      "[6 8 5 7 5 2 9 3 2 4]\t7\t\t是\t\t2\t5\t5\t\t2\n",
      "[4 6 1 7 1 5 4 7 3 6]\t4\t\t是\t\t3\t1\t8\t\t2\n",
      "[1 4 1 8 6 6 7 9 4 2]\t2\t\t是\t\t1\t1\t2\t\t0\n",
      "[1 7 2 6 2 8 1 5 4 1]\t0\t\t\t\t\t\t\t\t\n",
      "[6 3 3 2 8 9 3 4 3 2]\t5\t\t是\t\t2\t3\t3\t\t1\n",
      "[6 8 2 1 6 6 4 8 6 8]\t5\t\t是\t\t4\t1\t6\t\t3\n",
      "[1 9 1 5 3 5 1 5 4 5]\t9\t\t是\t\t4\t5\t8\t\t3\n",
      "Wall time: 2.99 ms\n"
     ]
    }
   ],
   "source": [
    "%%time\n",
    "import numpy as np\n",
    "import random\n",
    "\n",
    "if __name__ == \"__main__\":\n",
    "    print(\"随机数组\\t\\t\\t随机目标值\\t是否找到\\t\\t数字1\\t数字2\\t数组下标1\\t数组下标2\")\n",
    "    for i in range(10):\n",
    "        nums = np.random.randint(1, 10, (10,))\n",
    "        target = random.randint(0, 9)\n",
    "        i, j = twoSum(list(nums), target)\n",
    "        print(str(nums) + '\\t' + str(target), end='\\t\\t')\n",
    "        if i != -1 and j != -1:\n",
    "            print(\"是\\t\", end='\\t')\n",
    "            print(str(nums[i]) + '\\t' + str(nums[j]), end='\\t')\n",
    "            print(str(i) + '\\t\\t' + str(j))\n",
    "        else:\n",
    "            print(\"\\t\", end='\\t')\n",
    "            print('' + '\\t' + '', end='\\t')\n",
    "            print('' + '\\t\\t' + '')"
   ]
  },
  {
   "cell_type": "markdown",
   "metadata": {},
   "source": [
    "**解法3 用字典模拟哈希求解**"
   ]
  },
  {
   "cell_type": "markdown",
   "metadata": {},
   "source": [
    "这里通过字典来模拟哈希查询的过程。"
   ]
  },
  {
   "cell_type": "code",
   "execution_count": 120,
   "metadata": {},
   "outputs": [],
   "source": [
    "def twoSum(nums, target):\n",
    "    hashmap = {}\n",
    "    for index, num in enumerate(nums):\n",
    "        hashmap[num] = index\n",
    "    #print(hashmap)\n",
    "    for i, num in enumerate(nums):\n",
    "        j = hashmap.get(target-num)\n",
    "        if j is not None and j != i:\n",
    "            return [i, j]\n",
    "    return [-1, -1]\n",
    "\n",
    "nums = np.random.randint(1, 10, (10,))\n",
    "target = random.randint(0, 9)\n",
    "i, j = twoSum(nums, target)"
   ]
  },
  {
   "cell_type": "code",
   "execution_count": 121,
   "metadata": {},
   "outputs": [
    {
     "name": "stdout",
     "output_type": "stream",
     "text": [
      "随机数组\t\t\t随机目标值\t是否找到\t\t数字1\t数字2\t数组下标1\t数组下标2\n",
      "[1 7 5 6 6 6 5 6 2 4]\t7\t\t是\t\t1\t6\t0\t\t7\n",
      "[4 6 8 9 1 8 5 5 5 7]\t4\t\t\t\t\t\t\t\t\n",
      "[9 9 2 8 2 7 5 9 7 1]\t3\t\t是\t\t2\t1\t2\t\t9\n",
      "[2 7 8 1 1 3 1 1 3 4]\t9\t\t是\t\t2\t7\t0\t\t1\n",
      "[8 1 5 9 2 7 6 3 7 1]\t3\t\t是\t\t1\t2\t1\t\t4\n",
      "[4 1 3 9 7 7 2 2 5 9]\t0\t\t\t\t\t\t\t\t\n",
      "[2 8 7 1 3 1 9 8 7 5]\t5\t\t是\t\t2\t3\t0\t\t4\n",
      "[9 3 3 3 6 8 5 4 5 2]\t3\t\t\t\t\t\t\t\t\n",
      "[3 6 4 7 2 1 1 4 5 5]\t7\t\t是\t\t3\t4\t0\t\t7\n",
      "[2 5 1 8 2 8 7 2 4 4]\t5\t\t是\t\t1\t4\t2\t\t9\n",
      "Wall time: 3.99 ms\n"
     ]
    }
   ],
   "source": [
    "%%time\n",
    "import numpy as np\n",
    "import random\n",
    "\n",
    "\n",
    "if __name__ == \"__main__\":\n",
    "    print(\"随机数组\\t\\t\\t随机目标值\\t是否找到\\t\\t数字1\\t数字2\\t数组下标1\\t数组下标2\")\n",
    "    for i in range(10):\n",
    "        nums = np.random.randint(1, 10, (10,))\n",
    "        target = random.randint(0, 9)\n",
    "        i, j = twoSum(nums, target)\n",
    "        print(str(nums) + '\\t' + str(target), end='\\t\\t')\n",
    "        if i != -1 and j != -1:\n",
    "            print(\"是\\t\", end='\\t')\n",
    "            print(str(nums[i]) + '\\t' + str(nums[j]), end='\\t')\n",
    "            print(str(i) + '\\t\\t' + str(j))\n",
    "        else:\n",
    "            print(\"\\t\", end='\\t')\n",
    "            print('' + '\\t' + '', end='\\t')\n",
    "            print('' + '\\t\\t' + '')"
   ]
  },
  {
   "cell_type": "code",
   "execution_count": null,
   "metadata": {},
   "outputs": [],
   "source": []
  }
 ],
 "metadata": {
  "kernelspec": {
   "display_name": "Python 3",
   "language": "python",
   "name": "python3"
  },
  "language_info": {
   "codemirror_mode": {
    "name": "ipython",
    "version": 3
   },
   "file_extension": ".py",
   "mimetype": "text/x-python",
   "name": "python",
   "nbconvert_exporter": "python",
   "pygments_lexer": "ipython3",
   "version": "3.8.3"
  },
  "toc": {
   "base_numbering": 1,
   "nav_menu": {},
   "number_sections": true,
   "sideBar": true,
   "skip_h1_title": false,
   "title_cell": "Table of Contents",
   "title_sidebar": "Contents",
   "toc_cell": false,
   "toc_position": {},
   "toc_section_display": true,
   "toc_window_display": false
  }
 },
 "nbformat": 4,
 "nbformat_minor": 4
}
